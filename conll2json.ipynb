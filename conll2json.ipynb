{
 "cells": [
  {
   "cell_type": "markdown",
   "metadata": {},
   "source": [
    "# Import required libraries"
   ]
  },
  {
   "cell_type": "code",
   "execution_count": 7,
   "metadata": {},
   "outputs": [],
   "source": [
    "import json\n",
    "from typing import List, Dict, Any\n",
    "from datetime import datetime"
   ]
  },
  {
   "cell_type": "code",
   "execution_count": null,
   "metadata": {},
   "outputs": [],
   "source": [
    "def convert_conll_to_labelstudio(conll_file_path: str) -> List[Dict[str, Any]]:\n",
    "    \"\"\"\n",
    "    Convert CoNLL format file to Label Studio JSON format.\n",
    "    \n",
    "    Args:\n",
    "        conll_file_path (str): Path to the input CoNLL file\n",
    "        \n",
    "    Returns:\n",
    "        List[Dict[str, Any]]: List of Label Studio compatible JSON objects\n",
    "    \"\"\"\n",
    "    sentences = []\n",
    "    current_sentence = []\n",
    "    label_id = 1\n",
    "\n",
    "    with open(conll_file_path, 'r', encoding='utf-8') as file:\n",
    "        for line in file:\n",
    "            if line.strip() == '' or line.startswith('-DOCSTART-'):\n",
    "                if current_sentence:\n",
    "                    sentences.append(current_sentence)\n",
    "                    current_sentence = []\n",
    "            else:\n",
    "                current_sentence.append(line.strip().split())\n",
    "\n",
    "    if current_sentence:\n",
    "        sentences.append(current_sentence)\n",
    "\n",
    "    output = []\n",
    "    for idx, sentence in enumerate(sentences, start=1):\n",
    "        text = ' '.join(token[0] for token in sentence)\n",
    "        annotations = []\n",
    "        start = 0\n",
    "\n",
    "        for token in sentence:\n",
    "            word, _, _, label = token\n",
    "            end = start + len(word)\n",
    "            if label != 'O':\n",
    "                annotations.append({\n",
    "                    \"value\": {\n",
    "                        \"start\": start,\n",
    "                        \"end\": end,\n",
    "                        \"text\": word,\n",
    "                        \"labels\": [label.split('-')[-1]]\n",
    "                    },\n",
    "                    \"id\": f\"label_{label_id}\",\n",
    "                    \"from_name\": \"label\",\n",
    "                    \"to_name\": \"text\",\n",
    "                    \"type\": \"labels\",\n",
    "                    \"origin\": \"manual\"\n",
    "                })\n",
    "                label_id += 1\n",
    "            start = end + 1  # +1 for the space\n",
    "\n",
    "        current_time = datetime.utcnow().isoformat() + \"Z\"\n",
    "        output.append({\n",
    "            \"id\": idx,\n",
    "            \"annotations\": [{\n",
    "                \"id\": idx,\n",
    "                \"completed_by\": 1,\n",
    "                \"result\": annotations,\n",
    "                \"was_cancelled\": False,\n",
    "                \"ground_truth\": False,\n",
    "                \"created_at\": current_time,\n",
    "                \"updated_at\": current_time,\n",
    "                \"lead_time\": 41.132,\n",
    "                \"prediction\": {},\n",
    "                \"result_count\": 0,\n",
    "                \"task\": idx,\n",
    "                \"project\": 1,\n",
    "                \"updated_by\": 1\n",
    "            }],\n",
    "            \"file_upload\": \"conll-sentences.txt\",\n",
    "            \"drafts\": [],\n",
    "            \"predictions\": [],\n",
    "            \"data\": {\"text\": text},\n",
    "            \"meta\": {},\n",
    "            \"created_at\": current_time,\n",
    "            \"updated_at\": current_time,\n",
    "            \"inner_id\": idx,\n",
    "            \"total_annotations\": 1,\n",
    "            \"cancelled_annotations\": 0,\n",
    "            \"total_predictions\": 0,\n",
    "            \"project\": 1,\n",
    "            \"updated_by\": 1\n",
    "        })\n",
    "\n",
    "    return output"
   ]
  },
  {
   "cell_type": "markdown",
   "metadata": {},
   "source": [
    "# Main execution block"
   ]
  },
  {
   "cell_type": "code",
   "execution_count": 9,
   "metadata": {},
   "outputs": [
    {
     "name": "stderr",
     "output_type": "stream",
     "text": [
      "C:\\Users\\Sakib Ahmed\\AppData\\Local\\Temp\\ipykernel_27476\\1191007249.py:44: DeprecationWarning: datetime.datetime.utcnow() is deprecated and scheduled for removal in a future version. Use timezone-aware objects to represent datetimes in UTC: datetime.datetime.now(datetime.UTC).\n",
      "  current_time = datetime.utcnow().isoformat() + \"Z\"\n"
     ]
    },
    {
     "name": "stdout",
     "output_type": "stream",
     "text": [
      "Conversion completed. Output saved to labelstudio_output.json\n"
     ]
    }
   ],
   "source": [
    "# Locate your conll files\n",
    "if __name__ == \"__main__\":\n",
    "    conll_file_path = r\"d:\\data\\train.conll\"  # Replace with your actual file path\n",
    "    result = convert_conll_to_labelstudio(conll_file_path)\n",
    "    \n",
    "    output_file_path = \"labelstudio_output.json\"\n",
    "    with open(output_file_path, 'w', encoding='utf-8') as f:\n",
    "        json.dump(result, f, ensure_ascii=False, indent=2)\n",
    "    \n",
    "    print(f\"Conversion completed. Output saved to {output_file_path}\")"
   ]
  }
 ],
 "metadata": {
  "kernelspec": {
   "display_name": "Python 3",
   "language": "python",
   "name": "python3"
  },
  "language_info": {
   "codemirror_mode": {
    "name": "ipython",
    "version": 3
   },
   "file_extension": ".py",
   "mimetype": "text/x-python",
   "name": "python",
   "nbconvert_exporter": "python",
   "pygments_lexer": "ipython3",
   "version": "3.12.7"
  }
 },
 "nbformat": 4,
 "nbformat_minor": 2
}
