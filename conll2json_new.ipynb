{
 "cells": [
  {
   "cell_type": "markdown",
   "metadata": {},
   "source": [
    "# Import required libraries"
   ]
  },
  {
   "cell_type": "code",
   "execution_count": 1,
   "metadata": {},
   "outputs": [],
   "source": [
    "import json \n",
    "from typing import List, Dict, Any\n",
    "from datetime import datetime\n",
    "import uuid"
   ]
  },
  {
   "cell_type": "markdown",
   "metadata": {},
   "source": [
    "# Defining Important Functions"
   ]
  },
  {
   "cell_type": "code",
   "execution_count": 2,
   "metadata": {},
   "outputs": [],
   "source": [
    "def convert_conll_to_labelstudio(conll_file_path: str) -> List[Dict[str, Any]]:\n",
    "    \"\"\"\n",
    "    Converts a CoNLL format file to Label Studio JSON format for named entity recognition tasks.\n",
    "    \n",
    "    Args:\n",
    "        conll_file_path (str): Path to the input CoNLL file\n",
    "        \n",
    "    Returns:\n",
    "        List[Dict[str, Any]]: List of Label Studio compatible JSON objects\n",
    "    \"\"\"\n",
    "    sentences = []\n",
    "    current_sentence = []\n",
    "    label_id = 1\n",
    "\n",
    "    with open(conll_file_path, 'r', encoding='utf-8') as file:\n",
    "        for line in file:\n",
    "            if line.strip() == '' or line.startswith('-DOCSTART-'):\n",
    "                if current_sentence:\n",
    "                    sentences.append(current_sentence)\n",
    "                    current_sentence = []\n",
    "            else:\n",
    "                current_sentence.append(line.strip().split())\n",
    "\n",
    "    if current_sentence:\n",
    "        sentences.append(current_sentence)\n",
    "\n",
    "    output = []\n",
    "    for idx, sentence in enumerate(sentences, start=1):\n",
    "        text = ' '.join(token[0] for token in sentence)\n",
    "        annotations = []\n",
    "        start = 0\n",
    "        current_label = None\n",
    "        label_tokens = []\n",
    "        label_start = 0\n",
    "\n",
    "        for token in sentence:\n",
    "            word, _, _, label = token\n",
    "            end = start + len(word)\n",
    "            \n",
    "            # Check if we're continuing an entity or need to start a new one\n",
    "            if label.startswith(\"B-\") or (label != \"O\" and label.split(\"-\")[1] != current_label):\n",
    "                # Append current entity annotation if exists\n",
    "                if label_tokens:\n",
    "                    annotations.append({\n",
    "                        \"value\": {\n",
    "                            \"start\": label_start,\n",
    "                            \"end\": start - 1,\n",
    "                            \"text\": ' '.join(label_tokens),\n",
    "                            \"labels\": [current_label]\n",
    "                        },\n",
    "                        \"id\": f\"label_{uuid.uuid4()}\",\n",
    "                        \"from_name\": \"label\",\n",
    "                        \"to_name\": \"text\",\n",
    "                        \"type\": \"labels\",\n",
    "                        \"origin\": \"manual\"\n",
    "                    })\n",
    "                    label_tokens = []\n",
    "\n",
    "                # Start new entity\n",
    "                current_label = label.split(\"-\")[1]\n",
    "                label_tokens = [word]\n",
    "                label_start = start\n",
    "\n",
    "            elif label.startswith(\"I-\") and label.split(\"-\")[1] == current_label:\n",
    "                # Continue the current entity\n",
    "                label_tokens.append(word)\n",
    "\n",
    "            else:\n",
    "                # End current entity if there's one\n",
    "                if label_tokens:\n",
    "                    annotations.append({\n",
    "                        \"value\": {\n",
    "                            \"start\": label_start,\n",
    "                            \"end\": start - 1,\n",
    "                            \"text\": ' '.join(label_tokens),\n",
    "                            \"labels\": [current_label]\n",
    "                        },\n",
    "                        \"id\": f\"label_{uuid.uuid4()}\",\n",
    "                        \"from_name\": \"label\",\n",
    "                        \"to_name\": \"text\",\n",
    "                        \"type\": \"labels\",\n",
    "                        \"origin\": \"manual\"\n",
    "                    })\n",
    "                    label_tokens = []\n",
    "                current_label = None\n",
    "\n",
    "            start = end + 1  # +1 for the space\n",
    "\n",
    "        # Add any remaining entity at the end of the sentence\n",
    "        if label_tokens:\n",
    "            annotations.append({\n",
    "                \"value\": {\n",
    "                    \"start\": label_start,\n",
    "                    \"end\": start - 1,\n",
    "                    \"text\": ' '.join(label_tokens),\n",
    "                    \"labels\": [current_label]\n",
    "                },\n",
    "                \"id\": f\"label_{uuid.uuid4()}\",\n",
    "                \"from_name\": \"label\",\n",
    "                \"to_name\": \"text\",\n",
    "                \"type\": \"labels\",\n",
    "                \"origin\": \"manual\"\n",
    "            })\n",
    "\n",
    "        current_time = datetime.utcnow().isoformat() + \"Z\"\n",
    "        output.append({\n",
    "            \"id\": idx,\n",
    "            \"annotations\": [{\n",
    "                \"id\": idx,\n",
    "                \"completed_by\": 1,\n",
    "                \"result\": annotations,\n",
    "                \"was_cancelled\": False,\n",
    "                \"ground_truth\": False,\n",
    "                \"created_at\": current_time,\n",
    "                \"updated_at\": current_time,\n",
    "                \"lead_time\": 41.132,\n",
    "                \"prediction\": {},\n",
    "                \"result_count\": len(annotations),\n",
    "                \"task\": idx,\n",
    "                \"project\": 1,\n",
    "                \"updated_by\": 1\n",
    "            }],\n",
    "            \"data\": {\"text\": text},\n",
    "            \"meta\": {},\n",
    "            \"created_at\": current_time,\n",
    "            \"updated_at\": current_time,\n",
    "            \"inner_id\": idx,\n",
    "            \"total_annotations\": 1,\n",
    "            \"cancelled_annotations\": 0,\n",
    "            \"total_predictions\": 0,\n",
    "            \"project\": 1,\n",
    "            \"updated_by\": 1\n",
    "        })\n",
    "\n",
    "    return output"
   ]
  },
  {
   "cell_type": "markdown",
   "metadata": {},
   "source": [
    "# Script execution entry point"
   ]
  },
  {
   "cell_type": "code",
   "execution_count": 3,
   "metadata": {},
   "outputs": [
    {
     "name": "stderr",
     "output_type": "stream",
     "text": [
      "C:\\Users\\Sakib Ahmed\\AppData\\Local\\Temp\\ipykernel_52636\\1663983982.py:105: DeprecationWarning: datetime.datetime.utcnow() is deprecated and scheduled for removal in a future version. Use timezone-aware objects to represent datetimes in UTC: datetime.datetime.now(datetime.UTC).\n",
      "  current_time = datetime.utcnow().isoformat() + \"Z\"\n"
     ]
    },
    {
     "name": "stdout",
     "output_type": "stream",
     "text": [
      "Conversion completed. Output saved to labelstudio_output.json\n"
     ]
    }
   ],
   "source": [
    "# Locate your conll files\n",
    "if __name__ == \"__main__\":\n",
    "    conll_file_path = r\"c:\\Users\\Sakib Ahmed\\Downloads\\Projekt 8 Dec 6 2024.conll\"  # Replace with your actual file path\n",
    "    result = convert_conll_to_labelstudio(conll_file_path)\n",
    "    \n",
    "    output_file_path = \"labelstudio_output.json\"\n",
    "    with open(output_file_path, 'w', encoding='utf-8') as f:\n",
    "        json.dump(result, f, ensure_ascii=False, indent=2)\n",
    "    \n",
    "    print(f\"Conversion completed. Output saved to {output_file_path}\")"
   ]
  },
  {
   "cell_type": "code",
   "execution_count": null,
   "metadata": {},
   "outputs": [],
   "source": []
  }
 ],
 "metadata": {
  "kernelspec": {
   "display_name": "Python 3",
   "language": "python",
   "name": "python3"
  },
  "language_info": {
   "codemirror_mode": {
    "name": "ipython",
    "version": 3
   },
   "file_extension": ".py",
   "mimetype": "text/x-python",
   "name": "python",
   "nbconvert_exporter": "python",
   "pygments_lexer": "ipython3",
   "version": "3.12.8"
  }
 },
 "nbformat": 4,
 "nbformat_minor": 2
}
